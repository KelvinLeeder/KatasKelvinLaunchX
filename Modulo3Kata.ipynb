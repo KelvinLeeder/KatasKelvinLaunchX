{
 "cells": [
  {
   "cell_type": "markdown",
   "metadata": {},
   "source": [
    "## Ejercicio - Escribir declaraciones if, else, y elif\n",
    "Ejercicio 1:\n",
    "\n",
    "Escribir una lógica condicional que imprima una advertencia si un asteroide se acerca a la Tierra demasiado rápido. La velocidad del asteroide varía dependiendo de lo cerca que esté del sol, y cualquier velocidad superior a 25 kilómetros por segundo (km/s) merece una advertencia.\n",
    "\n",
    "Un asteroide se acerca, y viaja a una velocidad de 49 km/s."
   ]
  },
  {
   "cell_type": "code",
   "execution_count": 2,
   "metadata": {},
   "outputs": [
    {
     "name": "stdout",
     "output_type": "stream",
     "text": [
      "El asteoride no es un riesgo para la Tierra\n"
     ]
    }
   ],
   "source": [
    "velocidad_maxima = 25\n",
    "velocidad_asteroide = 0\n",
    "\n",
    "\n",
    "velocidad_asteroide = int(input(\"Digite la velocidad del asteroide: \"))\n",
    "\n",
    "    \n",
    "if velocidad_asteroide > velocidad_maxima:\n",
    "    print(\"¡ADVERTENCIA! un asteroide se encuentra cercano a la tierra, viajando a :\" + str(velocidad_asteroide )+ \" Km/s\")\n",
    "else:\n",
    "    print(\"El asteoride no es un riesgo para la Tierra\")"
   ]
  },
  {
   "cell_type": "markdown",
   "metadata": {},
   "source": [
    "Ejercicio 2:\n",
    "\n",
    "Si un asteroide entra en la atmósfera de la Tierra a una velocidad mayor o igual a 20 km/s, a veces produce un rayo de luz que se puede ver desde la Tierra. Escribe la lógica condicional que usa declaraciones if, else, y elif para alertar a las personas de todo el mundo que deben buscar un asteroide en el cielo. ¡Hay uno que se dirige a la tierra ahora a una velocidad de 19 km/s!"
   ]
  },
  {
   "cell_type": "code",
   "execution_count": 6,
   "metadata": {},
   "outputs": [
    {
     "name": "stdout",
     "output_type": "stream",
     "text": [
      "No hay rayo de luz visible en el cielo\n"
     ]
    }
   ],
   "source": [
    "velocidad_maxima= 20\n",
    "velocidad_asteroide = 0\n",
    "\n",
    "velocidad_asteroide = int(input(\"Digite la velocidad del asteroide: \"))\n",
    "\n",
    "    \n",
    "if velocidad_asteroide >= velocidad_maxima:\n",
    "    print(\"¡ADVERTENCIA! Asteroide acercandose a la tierra, hay un rayo de luz en el cielo\")\n",
    "else:\n",
    "    print(\"No hay rayo de luz visible en el cielo\")"
   ]
  },
  {
   "cell_type": "markdown",
   "metadata": {},
   "source": [
    "Ejercicio 3:\n",
    "\n",
    "Los asteroides de menos de 25 metros en su dimensión más grande probablemente se quemarán a medida que entren en la atmósfera de la Tierra.\n",
    "\n",
    "Si una pieza de un asteroide que es más grande que 25 metros pero más pequeña que 1000 metros golpeara la Tierra, causaría mucho daño.\n",
    "También discutimos en el ejercicio anterior que:\n",
    "\n",
    "La velocidad del asteroide varía en función de lo cerca que esté del sol, y cualquier velocidad superior a 25 kilómetros por segundo (km/s) merece una advertencia.\n",
    "Si un asteroide entra en la atmósfera de la Tierra a una velocidad mayor o igual a 20 km/s, a veces produce un rayo de luz que se puede ver desde la Tierra.\n",
    "Usando toda esta información, escribe un programa que emita la advertencia o información correcta a la gente de la Tierra, según la velocidad y el tamaño de un asteroide. Utiliza instrucciones if, else, y elif, así como los operadores and y or."
   ]
  },
  {
   "cell_type": "code",
   "execution_count": 9,
   "metadata": {},
   "outputs": [
    {
     "name": "stdout",
     "output_type": "stream",
     "text": [
      "¡ADVERTENCIA! Asteoride es de gran dimension acercandose a la tierra, pero viaja a una velocidad menor a 25 km/s\n"
     ]
    }
   ],
   "source": [
    "tamaño_asteoride = 0\n",
    "velocidad_maxima = 25\n",
    "velocidad_asteroide = 0\n",
    "\n",
    "tamaño_asteroide = int(input(\"Digite el tamaño (en metros) del asteroide: \"))\n",
    "velocidad_asteroide = int(input(\"Digite la velocidad del asteroide: \"))\n",
    "\n",
    "    \n",
    "if tamaño_asteroide > 25 and velocidad_asteroide > velocidad_maxima:\n",
    "    print(\"¡ADVERTENCIA! Asteroide de gran dimension acercandose a la tierra a una velocidad mayor a 25 km/s, se puede ver un rayo de luz en el cielo\")\n",
    "elif tamaño_asteroide > 25 and velocidad_asteroide < velocidad_maxima:\n",
    "    print(\"¡ADVERTENCIA! Asteoride es de gran dimension acercandose a la tierra, pero viaja a una velocidad menor de 25 km/s\")\n",
    "else:\n",
    "    print(\"El asteoride no es un riesgo para la tierra, no se visualizara ningun rayo de luz\")\n",
    "\n"
   ]
  }
 ],
 "metadata": {
  "interpreter": {
   "hash": "c260055b389763f9178f47a7468c8938d0aecaba8f5bb52e7bc0efd2b581e349"
  },
  "kernelspec": {
   "display_name": "Python 3.10.2 64-bit (windows store)",
   "language": "python",
   "name": "python3"
  },
  "language_info": {
   "codemirror_mode": {
    "name": "ipython",
    "version": 3
   },
   "file_extension": ".py",
   "mimetype": "text/x-python",
   "name": "python",
   "nbconvert_exporter": "python",
   "pygments_lexer": "ipython3",
   "version": "3.10.2"
  },
  "orig_nbformat": 4
 },
 "nbformat": 4,
 "nbformat_minor": 2
}
