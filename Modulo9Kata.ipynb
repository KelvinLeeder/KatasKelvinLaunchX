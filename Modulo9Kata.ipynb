{
 "cells": [
  {
   "cell_type": "markdown",
   "metadata": {},
   "source": [
    "## Uso de funciones en Python\n",
    "\n",
    "Ejercicio 1:\n",
    "\n",
    "Trabajar con argumentos en funciones\n",
    "Los argumentos requeridos en las funciones se utilizan cuando las funciones necesitan que esos argumentos funcionen correctamente. En este ejercicio, construirás un informe de combustible que requiere información de varias ubicaciones de combustible en todo el cohete.\n",
    "\n",
    "Comienza por crear una función que necesite tres lecturas de combustible y devuelva un informe:"
   ]
  },
  {
   "cell_type": "code",
   "execution_count": 11,
   "metadata": {},
   "outputs": [
    {
     "ename": "IndentationError",
     "evalue": "expected an indented block after function definition on line 1 (2383242514.py, line 5)",
     "output_type": "error",
     "traceback": [
      "\u001b[1;36m  Input \u001b[1;32mIn [11]\u001b[1;36m\u001b[0m\n\u001b[1;33m    \u001b[0m\n\u001b[1;37m    ^\u001b[0m\n\u001b[1;31mIndentationError\u001b[0m\u001b[1;31m:\u001b[0m expected an indented block after function definition on line 1\n"
     ]
    }
   ],
   "source": [
    "def lectura_combustible(tanque1, tanque2, tanque3):\n",
    "   \n",
    "    \n",
    "\n",
    "   "
   ]
  },
  {
   "cell_type": "markdown",
   "metadata": {},
   "source": [
    "Ahora que hemos definido la función de informes, vamos a comprobarlo. Para esta misión, los tanques no están llenos:"
   ]
  },
  {
   "cell_type": "code",
   "execution_count": 8,
   "metadata": {},
   "outputs": [
    {
     "name": "stdout",
     "output_type": "stream",
     "text": [
      "0 0 0\n"
     ]
    }
   ],
   "source": [
    "   lectura_combustible(0,0,0)\n"
   ]
  },
  {
   "cell_type": "markdown",
   "metadata": {},
   "source": [
    "En lugar de simplemente crear el informe, la función también está calculando el promedio. Mejora la legibilidad extrayendo el cálculo promedio de la función en una nueva función para que el promedio se pueda hacer de forma independiente:"
   ]
  },
  {
   "cell_type": "code",
   "execution_count": 13,
   "metadata": {},
   "outputs": [],
   "source": [
    "def lectura_combustible(tanque1, tanque2, tanque3):\n",
    "    promedio_tanques = (tanque1 + tanque2 + tanque3) / 3\n",
    "    return f\"\"\"Informe:\n",
    "    promedio de tanques: {promedio_tanques}\n",
    "    tanque1: {tanque1}\n",
    "    tanque2: {tanque2}\n",
    "    tanque3: {tanque3}\n",
    "\n",
    "    \"\"\"\n",
    "    \n",
    "\n"
   ]
  },
  {
   "cell_type": "markdown",
   "metadata": {},
   "source": [
    "Ahora actualiza la función de informes para llamando a la nueva función del promedio:"
   ]
  },
  {
   "cell_type": "code",
   "execution_count": 15,
   "metadata": {},
   "outputs": [
    {
     "name": "stdout",
     "output_type": "stream",
     "text": [
      "Informe:\n",
      "    promedio de tanques: 75.0\n",
      "    tanque1: 50\n",
      "    tanque2: 75\n",
      "    tanque3: 100\n",
      "\n",
      "    \n"
     ]
    }
   ],
   "source": [
    "print(lectura_combustible(50, 75, 100))"
   ]
  },
  {
   "cell_type": "markdown",
   "metadata": {},
   "source": [
    "Trabajo con argumentos de palabra clave\n",
    "\n",
    "Ejercicio 2: \n",
    "\n",
    "Trabajar con argumentos de palabras clave en funciones.\n",
    "En este ejercicio, construirás un informe de cohete que requiere varias piezas de información, como el tiempo hasta el destino, el combustible a la izquierda y el nombre del destino. Comienza por crear una función que creará un informe preciso de la misión:"
   ]
  },
  {
   "cell_type": "code",
   "execution_count": 32,
   "metadata": {},
   "outputs": [
    {
     "name": "stdout",
     "output_type": "stream",
     "text": [
      "Informe de cohete:\n",
      "    tiempo total de viaje: 50\n",
      "    combustible : 3000\n",
      "    destino: Luna\n",
      "    \n"
     ]
    }
   ],
   "source": [
    "def informe_de_cohete(tiempo_antes_de_vuelo, tiempo_de_vuelo, combustible_tanque1, combustible_tanque2, nombre_destino):\n",
    "    return f\"\"\"Informe de cohete:\n",
    "    tiempo total de viaje: {tiempo_antes_de_vuelo+tiempo_de_vuelo}\n",
    "    combustible : {combustible_tanque1+ combustible_tanque2}\n",
    "    destino: {nombre_destino}\n",
    "    \"\"\"\n",
    "print(informe_de_cohete(10, 40, 1000, 2000, 'Luna'))\n",
    "\n"
   ]
  },
  {
   "cell_type": "markdown",
   "metadata": {},
   "source": [
    "La función es problemática porque no se puede adaptar para minutos adicionales o tanques adicionales de combustible. Hazlo más flexible permitiendo cualquier número de pasos basados en el tiempo y cualquier número de tanques. En lugar de usar *args y **kwargs, aprovecha el hecho de que puedes usar cualquier nombre que desees. Asegurate que la función sea más legible mediante el uso de nombres de variables que están asociados con las entradas, como *minutes y **fuel_reservoirs:"
   ]
  },
  {
   "cell_type": "code",
   "execution_count": 33,
   "metadata": {},
   "outputs": [
    {
     "name": "stdout",
     "output_type": "stream",
     "text": [
      "\n",
      "    Destino: Luna\n",
      "    Tiempo total de vuelo: 75\n",
      "    Combustible total: 3000\n",
      "        \n"
     ]
    }
   ],
   "source": [
    "def informe_de_cohete(destino, *tiempo, **combustible):\n",
    "    return f\"\"\"\n",
    "    Destino: {destino}\n",
    "    Tiempo total de vuelo: {sum(tiempo)}\n",
    "    Combustible total: {sum(combustible.values())}\n",
    "        \"\"\"\n",
    "print(informe_de_cohete(\"Luna\", 20,25,30, tanque1=1000, tanque2=2000))\n",
    "\n"
   ]
  },
  {
   "cell_type": "markdown",
   "metadata": {},
   "source": [
    "Debido a que el combustible que queda en los tanques es específico de cada tanque, actualiza la función para usar el nombre de cada tanque en el informe:"
   ]
  },
  {
   "cell_type": "code",
   "execution_count": 36,
   "metadata": {},
   "outputs": [
    {
     "name": "stdout",
     "output_type": "stream",
     "text": [
      "\n",
      "    Destino: Luna\n",
      "    Tiempo total de vuelo: 75\n",
      "    Combustible total: 3000\n",
      "        tanque1: 1000 galones,tanque2: 2000 galones,\n"
     ]
    }
   ],
   "source": [
    "def informe_de_cohete(destino, *tiempo, **combustible):\n",
    "\n",
    "    informe = f\"\"\"\n",
    "    Destino: {destino}\n",
    "    Tiempo total de vuelo: {sum(tiempo)}\n",
    "    Combustible total: {sum(combustible.values())}\n",
    "        \"\"\"\n",
    "    for tanque, galon in combustible.items():\n",
    "        informe += f\"{tanque}: {galon} galones,\"\n",
    "    return informe\n",
    "\n",
    "print(informe_de_cohete(\"Luna\", 20,25,30, tanque1=1000, tanque2=2000))\n",
    "\n"
   ]
  }
 ],
 "metadata": {
  "interpreter": {
   "hash": "c260055b389763f9178f47a7468c8938d0aecaba8f5bb52e7bc0efd2b581e349"
  },
  "kernelspec": {
   "display_name": "Python 3.10.2 64-bit (windows store)",
   "language": "python",
   "name": "python3"
  },
  "language_info": {
   "codemirror_mode": {
    "name": "ipython",
    "version": 3
   },
   "file_extension": ".py",
   "mimetype": "text/x-python",
   "name": "python",
   "nbconvert_exporter": "python",
   "pygments_lexer": "ipython3",
   "version": "3.10.2"
  },
  "orig_nbformat": 4
 },
 "nbformat": 4,
 "nbformat_minor": 2
}
